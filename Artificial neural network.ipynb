{
 "cells": [
  {
   "cell_type": "code",
   "execution_count": 1,
   "metadata": {},
   "outputs": [],
   "source": [
    "import numpy as np\n",
    "import pandas as pd\n",
    "from sklearn.neural_network import MLPClassifier\n",
    "from sklearn.metrics import classification_report"
   ]
  },
  {
   "cell_type": "code",
   "execution_count": 2,
   "metadata": {},
   "outputs": [],
   "source": [
    "data = pd.read_csv(\"mbtipertweet_normalize.csv\")\n",
    "cls = pd.read_csv(\"classvalue.csv\")"
   ]
  },
  {
   "cell_type": "code",
   "execution_count": 3,
   "metadata": {},
   "outputs": [
    {
     "name": "stdout",
     "output_type": "stream",
     "text": [
      "Index(['url_no', 'emoji_n0', 'char_count', 'word_count', 'word_density',\n",
      "       'punctuation_count', 'upper_case_word_count', 'stopwords_count',\n",
      "       'unique_words_count', 'repeating_word_count', 'avg_word_length',\n",
      "       'Adjctive_count', 'Verb_count', 'Adverb_count', 'Noun_count',\n",
      "       'subjectivity_text', 'text_neg_score', 'text_neu_score',\n",
      "       'text_pos_score', 'text_sentiment_score', 'neg_words_in_text',\n",
      "       'pos_words_in_text', 'neu_words_in_text', 'text_polarity_Negetive',\n",
      "       'text_polarity_Neutral', 'text_polarity_Positive'],\n",
      "      dtype='object')\n"
     ]
    }
   ],
   "source": [
    "data = data.drop(columns=['Unnamed: 0'])\n",
    "cls = cls.drop(columns=['Unnamed: 0'])\n",
    "print(data.columns)"
   ]
  },
  {
   "cell_type": "code",
   "execution_count": 4,
   "metadata": {},
   "outputs": [
    {
     "name": "stdout",
     "output_type": "stream",
     "text": [
      "6940\n"
     ]
    }
   ],
   "source": [
    "tst = len(data) - int(len(data)/5)\n",
    "print(tst)\n",
    "\n",
    "train_x = data[:tst]\n",
    "\n",
    "test_x = data[tst :]\n",
    "\n",
    "train_y1 = cls['class 1'][:tst]\n",
    "test_y1 = cls['class 1'][tst:]\n",
    "\n",
    "train_y2 = cls['class 2'][:tst]\n",
    "test_y2 = cls['class 2'][tst:]\n",
    "\n",
    "train_y3 = cls['class 3'][:tst]\n",
    "test_y3 = cls['class 3'][tst:]\n",
    "\n",
    "train_y4 = cls['class 4'][:tst]\n",
    "test_y4 = cls['class 4'][tst:]\n",
    "\n",
    "train_y = cls['class'][:tst]\n",
    "test_y = cls['class'][tst:]\n"
   ]
  },
  {
   "cell_type": "code",
   "execution_count": 5,
   "metadata": {},
   "outputs": [
    {
     "name": "stdout",
     "output_type": "stream",
     "text": [
      "0       N\n",
      "1       N\n",
      "2       N\n",
      "3       N\n",
      "4       N\n",
      "       ..\n",
      "6935    N\n",
      "6936    S\n",
      "6937    N\n",
      "6938    N\n",
      "6939    N\n",
      "Name: class 2, Length: 6940, dtype: object\n"
     ]
    }
   ],
   "source": [
    "print(train_y2)"
   ]
  },
  {
   "cell_type": "code",
   "execution_count": 6,
   "metadata": {},
   "outputs": [
    {
     "name": "stdout",
     "output_type": "stream",
     "text": [
      "              precision    recall  f1-score   support\n",
      "\n",
      "        ENFJ       0.00      0.00      0.00        34\n",
      "        ENFP       0.27      0.04      0.07       144\n",
      "        ENTJ       0.00      0.00      0.00        56\n",
      "        ENTP       0.00      0.00      0.00       128\n",
      "        ESFJ       0.00      0.00      0.00         6\n",
      "        ESFP       0.00      0.00      0.00         8\n",
      "        ESTJ       0.00      0.00      0.00         9\n",
      "        ESTP       0.00      0.00      0.00        14\n",
      "        INFJ       0.00      0.00      0.00       294\n",
      "        INFP       0.23      0.79      0.36       346\n",
      "        INTJ       0.00      0.00      0.00       207\n",
      "        INTP       0.27      0.50      0.35       280\n",
      "        ISFJ       0.00      0.00      0.00        36\n",
      "        ISFP       0.00      0.00      0.00        60\n",
      "        ISTJ       0.00      0.00      0.00        47\n",
      "        ISTP       0.00      0.00      0.00        66\n",
      "\n",
      "    accuracy                           0.24      1735\n",
      "   macro avg       0.05      0.08      0.05      1735\n",
      "weighted avg       0.11      0.24      0.13      1735\n",
      "\n"
     ]
    },
    {
     "name": "stderr",
     "output_type": "stream",
     "text": [
      "c:\\Users\\asus\\AppData\\Local\\Programs\\Python\\Python311\\Lib\\site-packages\\sklearn\\neural_network\\_multilayer_perceptron.py:546: ConvergenceWarning: lbfgs failed to converge (status=1):\n",
      "STOP: TOTAL NO. of ITERATIONS REACHED LIMIT.\n",
      "\n",
      "Increase the number of iterations (max_iter) or scale the data as shown in:\n",
      "    https://scikit-learn.org/stable/modules/preprocessing.html\n",
      "  self.n_iter_ = _check_optimize_result(\"lbfgs\", opt_res, self.max_iter)\n",
      "c:\\Users\\asus\\AppData\\Local\\Programs\\Python\\Python311\\Lib\\site-packages\\sklearn\\metrics\\_classification.py:1469: UndefinedMetricWarning: Precision and F-score are ill-defined and being set to 0.0 in labels with no predicted samples. Use `zero_division` parameter to control this behavior.\n",
      "  _warn_prf(average, modifier, msg_start, len(result))\n",
      "c:\\Users\\asus\\AppData\\Local\\Programs\\Python\\Python311\\Lib\\site-packages\\sklearn\\metrics\\_classification.py:1469: UndefinedMetricWarning: Precision and F-score are ill-defined and being set to 0.0 in labels with no predicted samples. Use `zero_division` parameter to control this behavior.\n",
      "  _warn_prf(average, modifier, msg_start, len(result))\n",
      "c:\\Users\\asus\\AppData\\Local\\Programs\\Python\\Python311\\Lib\\site-packages\\sklearn\\metrics\\_classification.py:1469: UndefinedMetricWarning: Precision and F-score are ill-defined and being set to 0.0 in labels with no predicted samples. Use `zero_division` parameter to control this behavior.\n",
      "  _warn_prf(average, modifier, msg_start, len(result))\n"
     ]
    }
   ],
   "source": [
    "# class \n",
    "clf = MLPClassifier(solver='lbfgs', alpha=1e-5,hidden_layer_sizes=(5, 2), random_state=1)\n",
    "\n",
    "\n",
    "clf.fit(train_x, train_y)\n",
    "\n",
    "\n",
    "y_pred = clf.predict(test_x)\n",
    "\n",
    "#print(y_pred)\n",
    "print(classification_report(test_y, y_pred))"
   ]
  },
  {
   "cell_type": "code",
   "execution_count": 7,
   "metadata": {},
   "outputs": [
    {
     "name": "stdout",
     "output_type": "stream",
     "text": [
      "              precision    recall  f1-score   support\n",
      "\n",
      "           E       0.59      0.03      0.05       399\n",
      "           I       0.77      0.99      0.87      1336\n",
      "\n",
      "    accuracy                           0.77      1735\n",
      "   macro avg       0.68      0.51      0.46      1735\n",
      "weighted avg       0.73      0.77      0.68      1735\n",
      "\n"
     ]
    },
    {
     "name": "stderr",
     "output_type": "stream",
     "text": [
      "c:\\Users\\asus\\AppData\\Local\\Programs\\Python\\Python311\\Lib\\site-packages\\sklearn\\neural_network\\_multilayer_perceptron.py:546: ConvergenceWarning: lbfgs failed to converge (status=1):\n",
      "STOP: TOTAL NO. of ITERATIONS REACHED LIMIT.\n",
      "\n",
      "Increase the number of iterations (max_iter) or scale the data as shown in:\n",
      "    https://scikit-learn.org/stable/modules/preprocessing.html\n",
      "  self.n_iter_ = _check_optimize_result(\"lbfgs\", opt_res, self.max_iter)\n"
     ]
    }
   ],
   "source": [
    "# class 1 \n",
    "clf = MLPClassifier(solver='lbfgs', alpha=1e-5,hidden_layer_sizes=(5, 2), random_state=1)\n",
    "\n",
    "\n",
    "clf.fit(train_x, train_y1)\n",
    "\n",
    "\n",
    "y_pred1 = clf.predict(test_x)\n",
    "\n",
    "#print(y_pred)\n",
    "print(classification_report(test_y1, y_pred1))"
   ]
  },
  {
   "cell_type": "code",
   "execution_count": 8,
   "metadata": {},
   "outputs": [
    {
     "name": "stdout",
     "output_type": "stream",
     "text": [
      "              precision    recall  f1-score   support\n",
      "\n",
      "           N       0.86      1.00      0.92      1489\n",
      "           S       0.00      0.00      0.00       246\n",
      "\n",
      "    accuracy                           0.86      1735\n",
      "   macro avg       0.43      0.50      0.46      1735\n",
      "weighted avg       0.74      0.86      0.79      1735\n",
      "\n"
     ]
    },
    {
     "name": "stderr",
     "output_type": "stream",
     "text": [
      "c:\\Users\\asus\\AppData\\Local\\Programs\\Python\\Python311\\Lib\\site-packages\\sklearn\\metrics\\_classification.py:1469: UndefinedMetricWarning: Precision and F-score are ill-defined and being set to 0.0 in labels with no predicted samples. Use `zero_division` parameter to control this behavior.\n",
      "  _warn_prf(average, modifier, msg_start, len(result))\n",
      "c:\\Users\\asus\\AppData\\Local\\Programs\\Python\\Python311\\Lib\\site-packages\\sklearn\\metrics\\_classification.py:1469: UndefinedMetricWarning: Precision and F-score are ill-defined and being set to 0.0 in labels with no predicted samples. Use `zero_division` parameter to control this behavior.\n",
      "  _warn_prf(average, modifier, msg_start, len(result))\n",
      "c:\\Users\\asus\\AppData\\Local\\Programs\\Python\\Python311\\Lib\\site-packages\\sklearn\\metrics\\_classification.py:1469: UndefinedMetricWarning: Precision and F-score are ill-defined and being set to 0.0 in labels with no predicted samples. Use `zero_division` parameter to control this behavior.\n",
      "  _warn_prf(average, modifier, msg_start, len(result))\n"
     ]
    }
   ],
   "source": [
    "# class 2 \n",
    "clf = MLPClassifier(solver='lbfgs', alpha=1e-5,hidden_layer_sizes=(5, 2), random_state=1)\n",
    "\n",
    "\n",
    "clf.fit(train_x, train_y2)\n",
    "\n",
    "\n",
    "y_pred2 = clf.predict(test_x)\n",
    "\n",
    "#print(y_pred)\n",
    "print(classification_report(test_y2, y_pred2))"
   ]
  },
  {
   "cell_type": "code",
   "execution_count": 9,
   "metadata": {},
   "outputs": [
    {
     "name": "stdout",
     "output_type": "stream",
     "text": [
      "              precision    recall  f1-score   support\n",
      "\n",
      "           F       0.65      0.70      0.67       928\n",
      "           T       0.62      0.56      0.59       807\n",
      "\n",
      "    accuracy                           0.64      1735\n",
      "   macro avg       0.63      0.63      0.63      1735\n",
      "weighted avg       0.64      0.64      0.64      1735\n",
      "\n"
     ]
    },
    {
     "name": "stderr",
     "output_type": "stream",
     "text": [
      "c:\\Users\\asus\\AppData\\Local\\Programs\\Python\\Python311\\Lib\\site-packages\\sklearn\\neural_network\\_multilayer_perceptron.py:546: ConvergenceWarning: lbfgs failed to converge (status=1):\n",
      "STOP: TOTAL NO. of ITERATIONS REACHED LIMIT.\n",
      "\n",
      "Increase the number of iterations (max_iter) or scale the data as shown in:\n",
      "    https://scikit-learn.org/stable/modules/preprocessing.html\n",
      "  self.n_iter_ = _check_optimize_result(\"lbfgs\", opt_res, self.max_iter)\n"
     ]
    }
   ],
   "source": [
    "# class 3\n",
    "clf = MLPClassifier(solver='lbfgs', alpha=1e-5,hidden_layer_sizes=(5, 2), random_state=1)\n",
    "\n",
    "\n",
    "clf.fit(train_x, train_y3)\n",
    "\n",
    "\n",
    "y_pred3 = clf.predict(test_x)\n",
    "\n",
    "#print(y_pred)\n",
    "print(classification_report(test_y3, y_pred3))"
   ]
  },
  {
   "cell_type": "code",
   "execution_count": 10,
   "metadata": {},
   "outputs": [
    {
     "name": "stdout",
     "output_type": "stream",
     "text": [
      "              precision    recall  f1-score   support\n",
      "\n",
      "           J       0.00      0.00      0.00       689\n",
      "           P       0.60      1.00      0.75      1046\n",
      "\n",
      "    accuracy                           0.60      1735\n",
      "   macro avg       0.30      0.50      0.38      1735\n",
      "weighted avg       0.36      0.60      0.45      1735\n",
      "\n"
     ]
    },
    {
     "name": "stderr",
     "output_type": "stream",
     "text": [
      "c:\\Users\\asus\\AppData\\Local\\Programs\\Python\\Python311\\Lib\\site-packages\\sklearn\\neural_network\\_multilayer_perceptron.py:546: ConvergenceWarning: lbfgs failed to converge (status=1):\n",
      "STOP: TOTAL NO. of ITERATIONS REACHED LIMIT.\n",
      "\n",
      "Increase the number of iterations (max_iter) or scale the data as shown in:\n",
      "    https://scikit-learn.org/stable/modules/preprocessing.html\n",
      "  self.n_iter_ = _check_optimize_result(\"lbfgs\", opt_res, self.max_iter)\n",
      "c:\\Users\\asus\\AppData\\Local\\Programs\\Python\\Python311\\Lib\\site-packages\\sklearn\\metrics\\_classification.py:1469: UndefinedMetricWarning: Precision and F-score are ill-defined and being set to 0.0 in labels with no predicted samples. Use `zero_division` parameter to control this behavior.\n",
      "  _warn_prf(average, modifier, msg_start, len(result))\n",
      "c:\\Users\\asus\\AppData\\Local\\Programs\\Python\\Python311\\Lib\\site-packages\\sklearn\\metrics\\_classification.py:1469: UndefinedMetricWarning: Precision and F-score are ill-defined and being set to 0.0 in labels with no predicted samples. Use `zero_division` parameter to control this behavior.\n",
      "  _warn_prf(average, modifier, msg_start, len(result))\n",
      "c:\\Users\\asus\\AppData\\Local\\Programs\\Python\\Python311\\Lib\\site-packages\\sklearn\\metrics\\_classification.py:1469: UndefinedMetricWarning: Precision and F-score are ill-defined and being set to 0.0 in labels with no predicted samples. Use `zero_division` parameter to control this behavior.\n",
      "  _warn_prf(average, modifier, msg_start, len(result))\n"
     ]
    }
   ],
   "source": [
    "# class 4 \n",
    "clf = MLPClassifier(solver='lbfgs', alpha=1e-5,hidden_layer_sizes=(5, 2), random_state=1)\n",
    "\n",
    "\n",
    "clf.fit(train_x, train_y4)\n",
    "\n",
    "\n",
    "y_pred4 = clf.predict(test_x)\n",
    "\n",
    "#print(y_pred)\n",
    "print(classification_report(test_y4, y_pred4))"
   ]
  },
  {
   "cell_type": "code",
   "execution_count": 11,
   "metadata": {},
   "outputs": [
    {
     "name": "stdout",
     "output_type": "stream",
     "text": [
      "              precision    recall  f1-score   support\n",
      "\n",
      "        ENFJ       0.00      0.00      0.00        34\n",
      "        ENFP       0.33      0.03      0.06       144\n",
      "        ENTJ       0.00      0.00      0.00        56\n",
      "        ENTP       0.50      0.01      0.02       128\n",
      "        ESFJ       0.00      0.00      0.00         6\n",
      "        ESFP       0.00      0.00      0.00         8\n",
      "        ESTJ       0.00      0.00      0.00         9\n",
      "        ESTP       0.00      0.00      0.00        14\n",
      "        INFJ       0.00      0.00      0.00       294\n",
      "        INFP       0.24      0.69      0.36       346\n",
      "        INTJ       0.00      0.00      0.00       207\n",
      "        INTP       0.24      0.61      0.34       280\n",
      "        ISFJ       0.00      0.00      0.00        36\n",
      "        ISFP       0.00      0.00      0.00        60\n",
      "        ISTJ       0.00      0.00      0.00        47\n",
      "        ISTP       0.00      0.00      0.00        66\n",
      "\n",
      "    accuracy                           0.24      1735\n",
      "   macro avg       0.08      0.08      0.05      1735\n",
      "weighted avg       0.15      0.24      0.13      1735\n",
      "\n"
     ]
    },
    {
     "name": "stderr",
     "output_type": "stream",
     "text": [
      "c:\\Users\\asus\\AppData\\Local\\Programs\\Python\\Python311\\Lib\\site-packages\\sklearn\\metrics\\_classification.py:1469: UndefinedMetricWarning: Precision and F-score are ill-defined and being set to 0.0 in labels with no predicted samples. Use `zero_division` parameter to control this behavior.\n",
      "  _warn_prf(average, modifier, msg_start, len(result))\n",
      "c:\\Users\\asus\\AppData\\Local\\Programs\\Python\\Python311\\Lib\\site-packages\\sklearn\\metrics\\_classification.py:1469: UndefinedMetricWarning: Precision and F-score are ill-defined and being set to 0.0 in labels with no predicted samples. Use `zero_division` parameter to control this behavior.\n",
      "  _warn_prf(average, modifier, msg_start, len(result))\n",
      "c:\\Users\\asus\\AppData\\Local\\Programs\\Python\\Python311\\Lib\\site-packages\\sklearn\\metrics\\_classification.py:1469: UndefinedMetricWarning: Precision and F-score are ill-defined and being set to 0.0 in labels with no predicted samples. Use `zero_division` parameter to control this behavior.\n",
      "  _warn_prf(average, modifier, msg_start, len(result))\n"
     ]
    }
   ],
   "source": [
    "ypred = []\n",
    "\n",
    "for i in range(len(y_pred4)):\n",
    "    p = y_pred1[i] + y_pred2[i] + y_pred3[i] + y_pred4[i]\n",
    "    ypred.append(p)\n",
    "\n",
    "\n",
    "print(classification_report(test_y, ypred))"
   ]
  }
 ],
 "metadata": {
  "kernelspec": {
   "display_name": "Python 3",
   "language": "python",
   "name": "python3"
  },
  "language_info": {
   "codemirror_mode": {
    "name": "ipython",
    "version": 3
   },
   "file_extension": ".py",
   "mimetype": "text/x-python",
   "name": "python",
   "nbconvert_exporter": "python",
   "pygments_lexer": "ipython3",
   "version": "3.11.4"
  }
 },
 "nbformat": 4,
 "nbformat_minor": 2
}
